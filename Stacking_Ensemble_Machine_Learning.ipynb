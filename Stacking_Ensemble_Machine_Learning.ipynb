{
  "nbformat": 4,
  "nbformat_minor": 0,
  "metadata": {
    "colab": {
      "name": "Stacking_Ensemble_Machine_Learning.ipynb",
      "provenance": [],
      "authorship_tag": "ABX9TyOFZltCfB3E9UjSsY1anFvy",
      "include_colab_link": true
    },
    "kernelspec": {
      "name": "python3",
      "display_name": "Python 3"
    },
    "language_info": {
      "name": "python"
    }
  },
  "cells": [
    {
      "cell_type": "markdown",
      "metadata": {
        "id": "view-in-github",
        "colab_type": "text"
      },
      "source": [
        "<a href=\"https://colab.research.google.com/github/sumit1311singh/Stacking_Ensemble_Machine_Learning/blob/main/Stacking_Ensemble_Machine_Learning.ipynb\" target=\"_parent\"><img src=\"https://colab.research.google.com/assets/colab-badge.svg\" alt=\"Open In Colab\"/></a>"
      ]
    },
    {
      "cell_type": "code",
      "metadata": {
        "id": "Oll8R72vZGDf"
      },
      "source": [
        "from sklearn.datasets import make_classification\n",
        "X, Y = make_classification(n_samples=1500, n_features=30, n_informative=20, n_redundant=5, random_state=1)"
      ],
      "execution_count": 1,
      "outputs": []
    },
    {
      "cell_type": "code",
      "metadata": {
        "id": "AxipWslsZMbx"
      },
      "source": [
        "def new_models():\n",
        "  models = dict()\n",
        "  models['lr'] = LogisticRegression()\n",
        "  models['knn'] = KNeighborsClassifier()\n",
        "  models['cart'] = DecisionTreeClassifier()\n",
        "  models['svm'] = SVC()\n",
        "  models['bayes'] = GaussianNB()\n",
        "  models['stacking'] = new_stacking()\n",
        "  return models"
      ],
      "execution_count": 2,
      "outputs": []
    },
    {
      "cell_type": "code",
      "metadata": {
        "id": "JhPOmdnBZQXb"
      },
      "source": [
        "def new_stacking():\n",
        "  level0 = list()\n",
        "  level0.append(('lr', LogisticRegression()))\n",
        "  level0.append(('knn', KNeighborsClassifier()))\n",
        "  level0.append(('cart', DecisionTreeClassifier()))\n",
        "  level0.append(('svm', SVC()))\n",
        "  level0.append(('bayes', GaussianNB()))\n",
        "  level1 = LogisticRegression()\n",
        "  model = StackingClassifier(estimators=level0, final_estimator=level1, cv=5)\n",
        "  return model"
      ],
      "execution_count": 3,
      "outputs": []
    },
    {
      "cell_type": "code",
      "metadata": {
        "id": "bKyml1mhZSCf"
      },
      "source": [
        "def eval_model(model):\n",
        "  cv = RepeatedStratifiedKFold(n_splits=20, n_repeats=4, random_state=2)\n",
        "  scr = cross_val_score(model, X, Y, scoring='accuracy', cv=cv, n_jobs=-2, error_score='raise')\n",
        "  return scr"
      ],
      "execution_count": 4,
      "outputs": []
    },
    {
      "cell_type": "code",
      "metadata": {
        "id": "e2qmdWKbZUcp"
      },
      "source": [
        "X, Y = new_dataset()\n",
        "models = new_models()\n",
        "results, names = list(), list()\n",
        "for name, model in models.items():\n",
        "  scr = eval_model(model)\n",
        "  results.append(scores)\n",
        "  names.append(name)\n",
        "  print('>%s %.4f (%.4f)' % (name, mean(scr), std(scr)))\n",
        "pyplot.boxplot(results, labels=names, showmeans=True)\n",
        "pyplot.show()"
      ],
      "execution_count": null,
      "outputs": []
    },
    {
      "cell_type": "markdown",
      "metadata": {
        "id": "bVIpnmkVZbBy"
      },
      "source": [
        "![1st.png](data:image/png;base64,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)"
      ]
    },
    {
      "cell_type": "code",
      "metadata": {
        "id": "gjj-cPCoZWp_"
      },
      "source": [
        "from sklearn.datasets import make_regression\n",
        "X, Y = make_regression(n_samples=1500, n_features=30, n_informative=20, noise=0.1, random_state=1)"
      ],
      "execution_count": 6,
      "outputs": []
    },
    {
      "cell_type": "code",
      "metadata": {
        "id": "O-K1TQAZZrbc"
      },
      "source": [
        "def new_models():\n",
        "  models = dict()\n",
        "  models['knn'] = KNeighborsRegressor()\n",
        "  models['cart'] = DecisionTreeRegressor()\n",
        "  models['svm'] = SVR()\n",
        "  models['stacking'] = new_stacking()\n",
        "  return models"
      ],
      "execution_count": 7,
      "outputs": []
    },
    {
      "cell_type": "code",
      "metadata": {
        "id": "N_iRi2ukZtZ3"
      },
      "source": [
        "def new_stacking():\n",
        "  level0 = list()\n",
        "  level0.append(('knn', KNeighborsRegressor()))\n",
        "  level0.append(('cart', DecisionTreeRegressor()))\n",
        "  level0.append(('svm', SVR()))\n",
        "  level1 = LinearRegression()\n",
        "  model = StackingRegressor(estimators=level0, final_estimator=level1, cv=5)\n",
        "  return model"
      ],
      "execution_count": 8,
      "outputs": []
    },
    {
      "cell_type": "code",
      "metadata": {
        "id": "iBYnh0AKZu7d"
      },
      "source": [
        "def eval_model(model):\n",
        "  cv = RepeatedKFold(n_splits=20, n_repeats=4, random_state=2)\n",
        "  scr = cross_val_score(model, X, Y, scoring='neg_mean_absolute_error', cv=cv, n_jobs=-2, error_score='raise')\n",
        "  return scr"
      ],
      "execution_count": 9,
      "outputs": []
    },
    {
      "cell_type": "code",
      "metadata": {
        "id": "YBDnt3LRZwwM"
      },
      "source": [
        "X, Y = new_dataset()\n",
        "models = new_models()\n",
        "results, names = list(), list()\n",
        "for name, model in models.items():\n",
        "  scr = evaluate_model(model)\n",
        "  results.append(scr)\n",
        "  names.append(name)\n",
        "  print('>%s %.4f (%.4f)' % (name, mean(scr), std(scr)))\n",
        "pyplot.boxplot(results, labels=names, showmeans=True)\n",
        "pyplot.show()"
      ],
      "execution_count": null,
      "outputs": []
    },
    {
      "cell_type": "markdown",
      "metadata": {
        "id": "XNc18WxVZx2C"
      },
      "source": [
        "![2nd.png](data:image/png;base64,iVBORw0KGgoAAAANSUhEUgAAAX8AAAD7CAYAAACCEpQdAAAABHNCSVQICAgIfAhkiAAAAAlwSFlzAAALEgAACxIB0t1+/AAAADh0RVh0U29mdHdhcmUAbWF0cGxvdGxpYiB2ZXJzaW9uMy4yLjEsIGh0dHA6Ly9tYXRwbG90bGliLm9yZy+j8jraAAAYnElEQVR4nO3dfZBddZ3n8fcnTSbiyEO3HRch9gQHdEMaJrVcGawKzkTCmigPgyxKJiumbA1ZhaqpUmehGjU6dm0pOls1MtIGe93BwUYEkliiiWQ2YbbdyWgndEJCA3ZwZk2kpANZYAyEm9zv/nFP9KTTz+fevrf7fF5Vt/rc33m433vq9uee+ztPigjMzCxfZtW6ADMzm3oOfzOzHHL4m5nlkMPfzCyHHP5mZjnk8Dczy6Gqhb+ktZIOSOpLHu9NjbtN0oCkpyS9p1o1mJnZ8E6p8vL/e0R8Jd0g6QLgBmAhcDawRdLbIuJYlWsxM7NEtcN/ONcA90XEEeAXkgaAS4B/Gm2m5ubmmD9//hSUZ2Y2c+zYseNgRMwd2l7t8L9Z0o1AL/DJiDgEnANsT02zP2kb1fz58+nt7a1OlWZmM5Skfx2uPVOfv6QtkvYM87gGuAv4Q2AR8Czw1Uksf7WkXkm9g4ODWUo1M7OUTFv+EbF0PNNJuhv4QfL0APCW1Oh5Sdtwy18HrAMoFAq+CJGZWYVU82ifN6eeXgvsSYa/D9wgaY6kc4HzgZ9Wqw4zMztZNfv8vyxpERDAvwA3AUTEXkn3A08AR4FP+EgfM7OpVbXwj4gPjTKuA+io1mubmdnofIavmVkOOfzNzHLI4W9mlkO1OMPXzKxuSaro8ur1VrkOfzOzlPGGtaS6DfbxcLePmVkOOfzNzHLI4W9mlkMOfzOzHHL4m5nlkMPfzCyHHP5mZjnk8Dez3GhqakJSRR5ARZbT1NRUk3Xhk7zMLDcOHTpUdydmVfqM4vHylr+Z2QQNHh5k1aZVHHzlYK1LmTSHv5nZBHXu7mTnr3fSuauz1qVMmurtJ9BICoVC9Pb21roMM5vO1p6ReRGDDbNYPu9sjsyaxZxSiU37f0XzsVLGul7MXNdIJO2IiMLQ9qr1+Uv6LvD25OmZwP+LiEWS5gP9wFPJuO0RsaZadZiZHafPv5S5z79z+19R+vl6KBUpnTKHzis+ye2X3j75miRibaaSJqWat3H84PFhSV8F0l9t+yJiUbVe28ysGgYPD7JxYCPFUhGAYqnIhoENrPmjNTSf2lzj6iam6n3+Ku/K/gDQXe3XMjOrps7dnZTixC6eUpSmZd//VOzwvQz4dUT8PNV2rqTHJD0q6bIpqMHMLLNdz+367Vb/ccVSkb7n+mpU0eRl6vaRtAU4a5hR7RGxMRlewYlb/c8CLRHxvKSLgQ2SFkbES8MsfzWwGqClpSVLqWZmmT1w9QO1LqFiMoV/RCwdbbykU4D3Axen5jkCHEmGd0jaB7wNOOlQnohYB6yD8tE+WWo1M4PanVQ1ksbGxpq8brXP8F0KPBkR+483SJoLvBARxyS9FTgfeKbKdZiZVfTs3ul+G8dqh/8NnLyj913AFyQVgRKwJiJeqHIdZmaWUtXwj4hVw7Q9CDxYzdc1M7PR+fIOZmY55PA3M8shh7+ZWQ45/M3Mcsjhb2aWQw5/M7Mc8m0czcxSJnIG8HimrdcTwRz+ZmYp9RrWleZuHzOzHHL4m5nlkMPfzCyHHP5mZjnk8DczyyGHv5lZDjn8zcxyyOFvZpZDmcNf0vWS9koqSSoMGXebpAFJT0l6T6p9WdI2IOnWrDWYmdnEVGLLfw/lm7T/Y7pR0gWUb+O4EFgGfF1Sg6QG4G+B5cAFwIpkWjMzmyKZL+8QEf0w7DUurgHui4gjwC8kDQCXJOMGIuKZZL77kmmfyFqLmZmNTzX7/M8Bfpl6vj9pG6ndzMymyLi2/CVtAc4aZlR7RGysbEknvO5qYDVAS0tLtV7GzCx3xhX+EbF0Ess+ALwl9Xxe0sYo7UNfdx2wDqBQKOTjUntmZlOgmt0+3wdukDRH0rnA+cBPgZ8B50s6V9LvUd4p/P0q1mFmZkNk3uEr6Vrga8Bc4GFJfRHxnojYK+l+yjtyjwKfiIhjyTw3A5uBBuB/RMTerHWYmdn4abrcuKBQKERvb2+tyzAzm1Yk7YiIwtB2n+FrZpZDDn8zsxxy+JuZ5ZDD38wshxz+ZmY55PA3M8shh7+ZWQ45/M3Mcsjhb2aWQw5/M7Mcynxtn7wY5mY1mUyXy2qY2czk8B+n8Ya1JAe7mdU9d/uYmeWQw9/MLIcc/mZmOeTwNzPLIYe/mVkOZQp/SddL2iupJKmQar9C0g5Jjyd/350at03SU5L6ksebstRgZmYTl/VQzz3A+4FvDGk/CFwVEb+S1Er5fr3npMavjAjfk9HMrEYyhX9E9MPJJ0BFxGOpp3uBUyXNiYgjWV7PzMwqYyr6/K8Ddg4J/m8lXT6fUaVPnTUzszGNueUvaQtw1jCj2iNi4xjzLgS+BPzHVPPKiDgg6TTgQeBDwD0jzL8aWA3Q0tIyVqlmZjZOY4Z/RCydzIIlzQPWAzdGxL7U8g4kf1+W9B3gEkYI/4hYB6wDKBQKvmaCmVmFVKXbR9KZwMPArRHxk1T7KZKak+HZwJWUdxqbmdkUynqo57WS9gPvBB6WtDkZdTNwHvDZIYd0zgE2S9oN9AEHgLuz1GBmZhOn6XIFykKhEL299X90qK/qaWb1RNKOiCgMbfcZvmZmOeTwNzPLIYc/0NTUhKSKPICKLKepqanGa8XMZjLfyQs4dOhQ3fXT+9w3M6smb/mbmeWQw9/MLIcc/mZmOeTwr6DBw4Os2rSKg68crHUpZmajcvhXUOfuTnb+eieduzprXYqZ2agc/hUyeHiQjQMbCYINAxu89W9mdc2HegLxudNh7RmZltH5xkZKb3gDzBKl4qt0frPA7c8fylaTmVmVOPwBff6lTMf5Dx4eZONDyykeK9+vpjhLbGhsZs1He2k+tXlyNUnE2kmXZGY2Knf7VEDn7k5KUTqhrRQl9/2bWd1y+FfArud2USwVT2grlor0PddXo4rMzEbnbp8KeODqB2pdgpnZhHjL38wshxz+ZmY5lPU2jtdL2iupJKmQap8v6ZXULRw7U+MulvS4pAFJfyNfvtLMbMpl7fPfA7wf+MYw4/ZFxKJh2u8CPgb8M/BDYBnwo4x1ZFZv30GNjY21LsHMZrBM4R8R/TD+4JT0ZuD0iNiePL8H+DNqHP6VvJa/7+FrZtNBNfv8z5X0mKRHJV2WtJ0D7E9Nsz9pMzOzKTTmlr+kLcBZw4xqj4iNI8z2LNASEc9LuhjYIGnhRIuTtBpYDdDS0jLR2c3MbARjhn9ELJ3oQiPiCHAkGd4haR/wNuAAMC816bykbaTlrAPWARQKBfelmJlVSFW6fSTNldSQDL8VOB94JiKeBV6SdGlylM+NwEi/HszMrEqyHup5raT9wDuBhyVtTka9C9gtqQ94AFgTES8k4z4OfBMYAPZRB0f6mJnljabLkSmFQiF6e3trXcaYfLSPmdUTSTsiojC03Wf4mpnlkMPfzCyHHP5mZjnkSzpbTVT6chrez2I2MQ5/q4nxhLV3nptVj7t9zMxyyFv+ZjNAJbvR/GsrHxz+ZjOAu9FsotztY2aWQw5/M7MccvibmeWQw9/MLIe8w3ecJnI0xXim9Y43M6slh/84OazNbCZxt4+ZWQ45/M3Mcijrnbyul7RXUklSIdW+UlJf6lGStCgZt03SU6lxb8r6JszMbGKy9vnvAd4PfCPdGBH3AvcCSLoQ2BARfalJVkZE/d+Wy8xshsoU/hHRD2Me3bICuC/L65iZWWVNRZ//B4HuIW3fSrp8PqNKX9jdzMzGNOaWv6QtwFnDjGqPiI1jzPvHwOGI2JNqXhkRBySdBjwIfAi4Z4T5VwOrAVpaWsYq1czMxmnM8I+IpRmWfwNDtvoj4kDy92VJ3wEuYYTwj4h1wDqAQqHgA+3NzCqkat0+kmYBHyDV3y/pFEnNyfBs4ErKO43NzGwKZT3U81pJ+4F3Ag9L2pwa/S7glxHxTKptDrBZ0m6gDzgA3J2lBjMzm7isR/usB9aPMG4bcOmQtt8AF2d5TTMzy85n+JqZ5ZDD38wshxz+FdLd3U1raysNDQ20trbS3T301AYzs/rhSzpXQHd3N+3t7XR1dbF48WJ6enpoa2sDYMWKFTWuzszsZN7yr4COjg66urpYsmQJs2fPZsmSJXR1ddHR0VHr0szMhqXpcpOSQqEQvb31eS24hoYGXn31VWbPnv3btmKxyOte9zqOHTtWw8qmN0m+iU4FeX3mk6QdEVEY2u4t/wpYsGABPT09J7T19PSwYMGCGlVUO01NTUiqyAOo2LKamppqvGbM6ovDvwLa29tpa2tj69atFItFtm7dSltbG+3t7bUubcodOnSIiKi7x6FDh2q9aszqinf4VsDxnbq33HIL/f39LFiwgI6ODu/stcyampoq+sVVqYvoNjY28sILL1RkWVYb7vO3iqrXfuV6rWss9Vp3vdZlJ3Ofv5mZ/ZbD38wshxz+ZmY55PA3M8shh7+ZWQ45/M3Mcsjhb3Vp8PAgqzat4uArB2tditmMlDn8Jd0h6UlJuyWtl3RmatxtkgYkPSXpPan2ZUnbgKRbs9ZgM0/n7k52/nonnbs6a12K2YxUiS3/R4DWiLgIeBq4DUDSBcANwEJgGfB1SQ2SGoC/BZYDFwArkmnNgPJW/8aBjQTBhoEN3vo3q4LMl3eIiB+nnm4H/lMyfA1wX0QcAX4haQC4JBk3cPzG7pLuS6Z9ImstVnvxudNh7RmZltH5xkZKb3gDzBKl4qt0frPA7c9nu8RBfO70TPNPd4OHB/n0P36ar/zJV2g+tbnW5VgdqPS1fT4CfDcZPofyl8Fx+5M2gF8Oaf/jCtdhNaLPv5TptP/Bw4NsfGg5xWNHACjOEhsam1nz0d5MoSWJWDvp2ae9dDfa7ZfeXutyrA6MK/wlbQHOGmZUe0RsTKZpB44C91aqOEmrgdUALS0tlVqs1bHO3Z2UonRCWylKuQ2tSvySGmyYxcZ5ZxOzZrGhv5s1j3yV5mOlsWccqy6b1sYV/hGxdLTxklYBVwKXx+82+w4Ab0lNNi9pY5T2oa+7DlgH5Qu7jadWm952PbeLYql4QluxVKTvub4aVVRbWX9JAXRu/ytKP18PpSKlU+bQecUnM3+R5v2X1EyQ+aqekpYBfw38SUQMptoXAt+h3M9/NvAPwPmAKO8Yvpxy6P8M+POI2Dva6/iqntNDvV7tsV7rGkvWugcPD7L8oeUcSbrRAOY0zGHTdZuyd6NNw/WZR9W8quedwGnAI5L6JHUCJGF+P+UduZuAT0TEsYg4CtwMbAb6gfvHCn4zm5zRutEs3ypxtM95o4zrAE66i3lE/BD4YdbXNrPRuRvNRuI7eZnNYA9c/UCtS7A65cs7mJnlkMPfzCyHHP5mZjnkPn+rOEm1LuEkjY2NtS7BrK44/K2iKnnst48lN6sed/uYmeWQw9/MLIcc/mZmOeTwNzPLIe/wNatzPnrKqsHhb1bHfPSUVYu7fczMcsjhb2aWQw5/M7MccvibmeWQw9/MLIcyhb+kOyQ9KWm3pPWSzkzar5C0Q9Ljyd93p+bZJump5JaPfZLelPVNmJnZxGTd8n8EaI2IiyjflP22pP0gcFVEXAh8GPj2kPlWRsSi5PFcxhrMzGyCMoV/RPw4uSE7wHZgXtL+WET8KmnfC5wqaU6W1zIzs8qpZJ//R4AfDdN+HbAzIo6k2r6VdPl8RqOcvihptaReSb2Dg4MVLNXMLN/GDH9JWyTtGeZxTWqaduAocO+QeRcCXwJuSjWvTLqDLkseHxrptSNiXUQUIqIwd+7cib0zMzMb0ZiXd4iIpaONl7QKuBK4PFLnjkuaB6wHboyIfanlHUj+vizpO8AlwD2Tqt7MzCYl69E+y4C/BK6OiMOp9jOBh4FbI+InqfZTJDUnw7Mpf2nsyVKDmZlNXNY+/zuB04BHkj78zqT9ZuA84LNDDumcA2yWtBvoAw4Ad2eswczMJijTVT0j4rwR2r8IfHGE2S7O8ppmZpadz/A1M8shh7+ZWQ75Zi5WE+O9O9V4p/NNSswmxuFvNeGwNqstd/uYmeWQw9/MLIcc/mZmOeTwNzPLIYe/mVkOOfzNzHLI4W9mlkMOfzOzHHL4m5nlkMPfzCyHHP5Wd7q7u2ltbaWhoYHW1la6u7trXZLZjONr+1hd6e7upr29na6uLhYvXkxPTw9tbW0ArFixosbVmc0cWW/jeIekJyXtlrQ+uX0jkuZLeiV1F6/O1DwXS3pc0oCkv9F4L9toudDR0UFXVxdLlixh9uzZLFmyhK6uLjo6OmpdmtmMkrXb5xGgNSIuAp4GbkuN2xcRi5LHmlT7XcDHgPOTx7KMNdgM0t/fz+LFi09oW7x4Mf39/TWqyGxmyhT+EfHjiDiaPN0OzBtteklvBk6PiO1RvqbvPcCfZanBZpYFCxbQ09NzQltPTw8LFiyoUUVmM1Mld/h+BPhR6vm5kh6T9Kiky5K2c4D9qWn2J21mALS3t9PW1sbWrVspFots3bqVtrY22tvba12a2Ywy5g5fSVuAs4YZ1R4RG5Np2oGjwL3JuGeBloh4XtLFwAZJCydanKTVwGqAlpaWic5u09Dxnbq33HIL/f39LFiwgI6ODu/sNaswZb2jkqRVwE3A5RFxeIRptgGfAg4AWyPi3yftK4A/jYibxnqdQqEQvb29mWo1m6kqedyE77I2s0jaERGFoe1Zj/ZZBvwlcHU6+CXNldSQDL+V8o7dZyLiWeAlSZcmR/ncCGzMUoOZlQO7Ug/Lh6zH+d8JzAEeSbY8tidH9rwL+IKkIlAC1kTEC8k8Hwf+J3Aq5X0EPxq6UDMzq65M4R8R543Q/iDw4AjjeoHWLK9rZmbZ+PIOZmY55PA3M8shh7+ZWQ45/M3Mcsjhb2aWQw5/M7McynyG71SRNAj8a63rGIdm4GCti5ghvC4ry+uzsqbL+vyDiJg7tHHahP90Ial3uFOpbeK8LivL67Oypvv6dLePmVkOOfzNzHLI4V9562pdwAzidVlZXp+VNa3Xp/v8zcxyyFv+ZmY55PCfAEnzJe2pdR15J2mRpPfWug6b3iT9haTXT3LeVZLuHKZ9jaQbs1dXfQ5/m1YknQIsAhz+ltVfAJMK/5FERGdE3FPJZVaLw3+SJL01uUH9pyU9JGmTpJ9L+nJqmn+T1CFpl6Ttkv5dLWuuN5JulLQ7WT/flnSVpH9O1uuW4+tL0tpk/E+AbwNfAD4oqU/SB2v6JuqApN+X9HCyHvdI+rCk76XG/6mkHyTD/ybpDkl7k3V8iaRtkp6RdHXt3kV1DbOOPgecDWyVtDWZ5i5Jvcm6+Xxq3ndI+j/JvD+VdNqQZb9P0j9Jak4+q59K2rdJ+lIyz9OSLkvaXy/pfklPSFqffOan/nyBSt7+baY/gPnAHuDtwGPAHwGrgGeAM4DXUT4L+S3J9AFclQx/Gbi91u+hXh7AQuBpoDl53gQ08ruDED4KfDUZXgvsAE5Nnq8C7qz1e6iXB3AdcHfq+RnA/wV+P3l+F/Cfk+EAlifD64EfA7OTz3Jfrd/LFK+jfzn++UvampK/DcA24CLg95L/73ck406nfBOsVZTvZHgt8L+BxmT8WuBTyfC21Gf4vcCWZPhTwDeS4VbgKFCY6nXiLf+Jm0v5vsMrI2JX0vYPEfFiRLwKPAH8QdL+GvCDZHgH5S8PK3s38L2IOAgQ5dt8zgM2S3oc+DTlL4jjvh8Rr0x9mdPC48AVyVbmZRHxIrAJuCrpJnsfv7tX9mvJuOPzPRoRxWR4/tSWPaWGW0dDfUDSTsobdguBCyhv6D0bET8DiIiXIuJoMv27gf8KvC8iDo3wug8lf9P//4uB+5Ll7QF2Z3pnk+Twn7gXKW9VLU61HUkNH+N3t8csRvL1PqTdhvc1ylv0FwI3Uf4lddxvalNS/YuIp4H/QDngvijps5TD5QOUA6o3Il5OJk9/Jkskn92IKDGDP58jrKPfknQu5S3yyyPiIuBhTvz8DWcfcBrwtlGmOZ4Ndff/7/CfuNco/9S7UdKf17qYaex/AddLeiOApCbKP8UPJOM/PMq8L1P+pzNA0tnA4Yj4e+AOyiH3aPL3YyRbmXk2wjpKf45Op7yB8WKyr2l50v4U8GZJ70iWc1ryawrKXbzXAfdISv9KHctPKH8xI+kC4MJJv7EM6uqbaLqIiN9IuhJ4hPIOSJugiNgrqQN4VNIxyj+11wLfk3SI8pfDuSPMvhW4VVIf8N8i4rtTUXMduxC4Q1IJKAL/JSKOJTt5VzH6F2lenLSOgHcCmyT9KiKWSHoMeBL4JeWAJiJeSw4q+JqkU4FXgKXHFxoRT0paSflze9U4a/k68HeSnkheby/lHoUp5TN8zcymkKQGYHZEvCrpD4EtwNsj4rWprMNb/mZmU+v1lA8xnQ0I+PhUBz94y9/MLJe8w9fMLIcc/mZmOeTwNzPLIYe/mVkOOfzNzHLI4W9mlkP/H2AlytlwnorNAAAAAElFTkSuQmCC)"
      ]
    }
  ]
}